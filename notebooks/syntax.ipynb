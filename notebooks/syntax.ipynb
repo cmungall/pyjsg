{
 "cells": [
  {
   "cell_type": "code",
   "execution_count": 1,
   "metadata": {},
   "outputs": [],
   "source": [
    "#! pip install -e .. --upgrade"
   ]
  },
  {
   "cell_type": "code",
   "execution_count": 2,
   "metadata": {
    "collapsed": true
   },
   "outputs": [],
   "source": [
    "from pyjsg.validate_json import JSGPython"
   ]
  },
  {
   "cell_type": "markdown",
   "metadata": {
    "collapsed": true
   },
   "source": [
    "# JSG Syntax\n",
    "The names of the various components defined in (Introducing JSON)[https://json.org/] are referenced in ***bold italics*** in the document below.  Example: A member definition defines the ***string***/***value*** pairs that may appear as ***members*** in an ***object*** definition.\n",
    "\n",
    "A JSG Syntax definition consists of the following components:\n",
    "1. Type and/or Ignore directives.  The `.TYPE` directive identifies the ***string** (if any) that identifies the JSG \"type\" of an ***object***.  It also names any JSG types that do not have a `.TYPE` identifier.  The `.IGNORE` directive identifies a set of ***strings*** that may appear in any JSON object.\n",
    "2. Grammar rules.  These define valid (conformant) JSON ***objects*** and ***arrays***.\n",
    "3. Lexer rules.  Lexer rules define the regular expressions that can be used to constrain the range of a JSON ***value***.\n",
    "\n",
    "\n",
    "## Directives\n",
    "### The `.TYPE` directive:\n",
    "\n",
    "1. Names a unique property that identifies the JSG object being represented\n",
    "2. (Optional) lists one or more production types that do not use the `.TYPE` discriminator\n",
    "\n",
    "#### Syntax\n",
    "`.TYPE <type> [ - <type> [<type>...]] ;`\n",
    "\n",
    "#### No type directive"
   ]
  },
  {
   "cell_type": "code",
   "execution_count": 3,
   "metadata": {},
   "outputs": [
    {
     "name": "stdout",
     "output_type": "stream",
     "text": [
      "T1: Conforms to doc\n",
      "T2: Conforms to doc\n",
      "T3: FAIL - doc: Missing required field: 'a'\n"
     ]
    }
   ],
   "source": [
    "x = JSGPython('doc { a:., }')\n",
    "print(x.conforms('{\"a\":\"hello\"}', 'T1'))\n",
    "print(x.conforms('{\"a\":\"test\", \"b\": \"work\"}', 'T2'))\n",
    "print(x.conforms('{\"b\":\"test\"}', 'T3'))"
   ]
  },
  {
   "cell_type": "markdown",
   "metadata": {},
   "source": [
    "#### Object type identifier: \" `.TYPE t  ;`\""
   ]
  },
  {
   "cell_type": "code",
   "execution_count": 4,
   "metadata": {},
   "outputs": [
    {
     "name": "stdout",
     "output_type": "stream",
     "text": [
      "T1: Conforms to doc\n",
      "T2: FAIL - Invalid Integer value: \"text\"\n",
      "T3: FAIL - doc: Missing required field: 'a'\n"
     ]
    }
   ],
   "source": [
    "x = JSGPython('''\n",
    ".TYPE t ;\n",
    "doc {a:.,}\n",
    "id {b: @int}\n",
    "''')\n",
    "print(x.conforms('{\"t\": \"doc\", \"a\": {\"t\":\"id\", \"b\": 173}}', 'T1'))\n",
    "print(x.conforms('{\"t\": \"id\", \"b\":\"text\"}', 'T2'))\n",
    "print(x.conforms('{\"t\": \"doc\", \"b\": 173}', 'T3'))"
   ]
  },
  {
   "cell_type": "markdown",
   "metadata": {},
   "source": [
    "#### Object type identifier with single exception: \"`.TYPE t - id;`\""
   ]
  },
  {
   "cell_type": "code",
   "execution_count": 5,
   "metadata": {},
   "outputs": [
    {
     "name": "stdout",
     "output_type": "stream",
     "text": [
      "T1: Conforms to doc\n",
      "T2: Conforms to id\n",
      "T3: FAIL - Invalid Integer value: \"twelve\"\n"
     ]
    }
   ],
   "source": [
    "x = JSGPython('''\n",
    ".TYPE t - id ;\n",
    "doc {a:.,}\n",
    "id {b: @int}\n",
    "''')\n",
    "print(x.conforms('{\"t\": \"doc\", \"a\": {\"b\": 173}}', 'T1'))\n",
    "print(x.conforms('{\"t\": \"id\", \"b\": 140}', 'T2'))\n",
    "print(x.conforms('{\"b\": \"twelve\"}', 'T3'))"
   ]
  },
  {
   "cell_type": "markdown",
   "metadata": {},
   "source": [
    "#### Object type identifier with multiple exceptions: \"`.TYPE t - id val;`\""
   ]
  },
  {
   "cell_type": "code",
   "execution_count": 6,
   "metadata": {},
   "outputs": [
    {
     "name": "stdout",
     "output_type": "stream",
     "text": [
      "T1: Conforms to doc\n",
      "T2: Conforms to id\n",
      "T3: Conforms to val\n"
     ]
    }
   ],
   "source": [
    "x = JSGPython('''\n",
    ".TYPE t - id val ;\n",
    "doc {a:.,}\n",
    "id {b: @int}\n",
    "val {t: @number}\n",
    "''')\n",
    "print(x.conforms('{\"t\": \"doc\", \"a\": {\"b\": 173}}', 'T1'))\n",
    "print(x.conforms('{\"t\": \"id\", \"b\": 140}', 'T2'))\n",
    "print(x.conforms('{\"t\": 3.14}', 'T3'))"
   ]
  },
  {
   "cell_type": "markdown",
   "metadata": {},
   "source": [
    "### The `.IGNORE` directive\n",
    "The `.IGNORE` directive identifies a list of property names to be globally ignored\n",
    "\n",
    "#### Syntax\n",
    "`.IGNORE <type> [<type> ...] ;`\n",
    "\n",
    "#### Without Ignore"
   ]
  },
  {
   "cell_type": "code",
   "execution_count": 7,
   "metadata": {},
   "outputs": [
    {
     "name": "stdout",
     "output_type": "stream",
     "text": [
      "Conforms to doc\n",
      "FAIL - Unknown attribute: target=earthling\n"
     ]
    }
   ],
   "source": [
    "x = JSGPython('doc {a:@string}')\n",
    "print(x.conforms('{\"a\":\"hello\"}'))\n",
    "print(x.conforms('{\"a\":\"hello\", \"target\":\"earthling\"}'))"
   ]
  },
  {
   "cell_type": "code",
   "execution_count": 8,
   "metadata": {},
   "outputs": [
    {
     "name": "stdout",
     "output_type": "stream",
     "text": [
      "Conforms to doc\n",
      "Conforms to doc\n",
      "FAIL - Unknown attribute: mode=formal\n"
     ]
    }
   ],
   "source": [
    "x = JSGPython('''\n",
    ".IGNORE target;\n",
    "doc {a:@string}''')\n",
    "print(x.conforms('{\"a\":\"hello\"}'))\n",
    "print(x.conforms('{\"a\":\"hello\", \"target\":\"earthling\"}'))\n",
    "print(x.conforms('{\"a\":\"hello\", \"target\":\"earthling\", \"mode\": \"formal\"}'))"
   ]
  },
  {
   "cell_type": "markdown",
   "metadata": {},
   "source": [
    "### Object Definitions\n",
    "A JSG object definition consists of the definition name followed by the definition enclosed in curly braces ({ ... })\n",
    "\n",
    "#### Syntax\n",
    "`<identifier> : { [<element definitions>] }` \n",
    "\n",
    "Where identifier must either be a single, upper case character or, if there are two or more characters, at least one of them must be lower case alphabetic.\n",
    "\n",
    "* valid identifiers:  A,  Type,  type, a17, a_abc, DOCx\n",
    "* invalid identifiers: AA, A17, DOCX, A_\n",
    "\n",
    "##### Simple object definition\n",
    "An object definition with no element definitions describes an empty object"
   ]
  },
  {
   "cell_type": "code",
   "execution_count": 9,
   "metadata": {},
   "outputs": [
    {
     "name": "stdout",
     "output_type": "stream",
     "text": [
      "Conforms to mtdoc\n",
      "FAIL - Unknown attribute: name=Fred\n",
      "Conforms to mtdoc\n",
      "Conforms to mtdoc\n",
      "FAIL - Unknown attribute: location=Spain\n"
     ]
    }
   ],
   "source": [
    "x = JSGPython('mtdoc {}')\n",
    "print(x.conforms('{}'))\n",
    "print(x.conforms('{\"name\":\"Fred\"}'))\n",
    "\n",
    "# .IGNORE elements can always appear - even in empty documents\n",
    "x = JSGPython('.IGNORE name; mtdoc {}')\n",
    "print(x.conforms('{}'))\n",
    "print(x.conforms('{\"name\":\"Fred\"}'))\n",
    "print(x.conforms('{\"location\":\"Spain\"}'))"
   ]
  },
  {
   "cell_type": "markdown",
   "metadata": {},
   "source": [
    "### `element definitions` \n",
    "**`element definitions`** consist of either:\n",
    "\n",
    " 1. a list of one or more `member definitions` or ...\n",
    " 2. ... a `mapping definition`\n",
    "\n",
    "\n",
    "#### `member definition`\n",
    "A **`member definition`** identifies the string (name), type and possible values for a JSON object member.  `member definition` can also determine whether a member is required or optional.\n",
    "\n",
    "##### Syntax\n",
    "`<name> : <valueType> [<cardinality]`<br/>\n",
    "&nbsp;&nbsp;&nbsp;&nbsp;\n",
    "or<br/>\n",
    "`(<name> <name> ...) : <valuetype> [<cardinality]`<br/>\n",
    "&nbsp;&nbsp;&nbsp;&nbsp;or<br/>\n",
    "`<objectId>`<br/>\n",
    "\n",
    "\n",
    "**`<name> : <valueType> [<cardinality]`** format:<br/>\n",
    "* `<name>` - can be any valid JSON *string* as defined by the ECMA-404 standard<br/>\n",
    "* `<valuetype` and `<cardinality>` are defined later in this document<br/>\n",
    "\n",
    "##### Example\n",
    "The following example defines four elements:\n",
    "\n",
    "1) A required string, `last_name'`\n",
    "\n",
    "2) A non-empty list of required strings, `'first name'` (note that this identifier is a valid JSON string but NOT a valid python identifier)\n",
    "\n",
    "3) An optional integer, `'age'`\n",
    "\n",
    "4) A (possibly empty) list of numbers named `'weight'`"
   ]
  },
  {
   "cell_type": "code",
   "execution_count": 10,
   "metadata": {},
   "outputs": [
    {
     "name": "stdout",
     "output_type": "stream",
     "text": [
      "1) Conforms to doc\n",
      "2) FAIL - first name: at least 1 value required - element has none\n"
     ]
    }
   ],
   "source": [
    "x = JSGPython('''doc {\n",
    "    last_name : @string,       # exactly one last name of type string\n",
    "    \"first name\" : @string+      # array or one or more first names\n",
    "    age : @int?,               # optional age of type int\n",
    "    weight : @number*          # array of zero or more weights\n",
    "}\n",
    "''')\n",
    "\n",
    "print(\"1) \" + str(x.conforms('''\n",
    "{ \"last_name\" : \"snooter\",\n",
    "  \"first name\" : [\"grunt\", \"peter\"],\n",
    "  \"weight\" : []\n",
    "}''')))\n",
    "\n",
    "print(\"2) \" + str(x.conforms('{ \"last_name\" : \"Jones\"}')))\n"
   ]
  },
  {
   "cell_type": "markdown",
   "metadata": {},
   "source": [
    "**`(<name> <name> ...) : <valueType> [<cardinality]`** format:"
   ]
  },
  {
   "cell_type": "markdown",
   "metadata": {
    "collapsed": true
   },
   "source": [
    "### **`<valueType>`**:\n",
    "\n",
    "valueType can be:\n",
    "\n",
    "1) A built in value type:\n",
    "* @string   - a JSON string\n",
    "* @number   - a JSON number\n",
    "* @int      - a JSON number with no decimal value\n",
    "* @bool     - `true` or `false`\n",
    "* @null     - the JSON null value\n",
    "* @array    - any JSON array (`[ ... ]`)\n",
    "* @object   - any JSON object (`{ ... }`)\n",
    "\n",
    "2) The identifier of a pattern defined in the lexer section\n",
    "\n",
    "3) A JSON string enclosed in quotes\n",
    "\n",
    "4) A JSG object definition of the form: `{ ... }`\n",
    "\n",
    "5) A JSG array definition of the form: `[ ... ]`\n",
    "\n",
    "6) A dot ('.') indicating any value\n",
    "\n",
    "7) One or more type choices enclosed in parenthesis: `(<type> [| <type]...)`\n",
    "\n",
    "#### Built In  Types"
   ]
  },
  {
   "cell_type": "code",
   "execution_count": 12,
   "metadata": {},
   "outputs": [
    {
     "name": "stdout",
     "output_type": "stream",
     "text": [
      "FAIL - Unknown attribute: q=life\n"
     ]
    }
   ],
   "source": [
    "x = JSGPython('''doc {\n",
    "    v1: @string,\n",
    "    v2: @number,\n",
    "    v3: @int,\n",
    "    v4: @bool,\n",
    "    v5: @null,\n",
    "    v6: @array,\n",
    "    v7: @object \n",
    "}''')\n",
    "print(x.conforms('''\n",
    "{ \"v1\": \"This is text!\",\n",
    "  \"v2\": -117.432e+2,\n",
    "  \"v3\": -100173,\n",
    "  \"v4\": false,\n",
    "  \"v5\": null,\n",
    "  \"v6\": [12, \"text\", null],\n",
    "  \"v7\": {\"q\": \"life\", \"a\": 42}\n",
    "}'''))"
   ]
  },
  {
   "cell_type": "code",
   "execution_count": null,
   "metadata": {
    "collapsed": true
   },
   "outputs": [],
   "source": []
  }
 ],
 "metadata": {
  "kernelspec": {
   "display_name": "Python 3",
   "language": "python",
   "name": "python3"
  },
  "language_info": {
   "codemirror_mode": {
    "name": "ipython",
    "version": 3
   },
   "file_extension": ".py",
   "mimetype": "text/x-python",
   "name": "python",
   "nbconvert_exporter": "python",
   "pygments_lexer": "ipython3",
   "version": "3.6.3"
  }
 },
 "nbformat": 4,
 "nbformat_minor": 2
}
