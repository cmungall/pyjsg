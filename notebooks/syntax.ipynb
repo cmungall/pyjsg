{
 "cells": [
  {
   "cell_type": "code",
   "execution_count": 1,
   "metadata": {
    "collapsed": true
   },
   "outputs": [],
   "source": [
    "from pyjsg.validate_json import JSGPython"
   ]
  },
  {
   "cell_type": "markdown",
   "metadata": {
    "collapsed": true
   },
   "source": [
    "# JSG Syntax\n",
    "The names of the various components defined in (Introducing JSON)[https://json.org/] are referenced in ***bold italics*** in the document below.  Example: A member definition defines the ***string***/***value*** pairs that may appear as ***members*** in an ***object*** definition.\n",
    "\n",
    "A JSG Syntax definition consists of the following components:\n",
    "1. Type and/or Ignore directives.  The `.TYPE` directive identifies the ***string** (if any) that identifies the JSG \"type\" of an ***object***.  It also names any JSG types that do not have a `.TYPE` identifier.  The `.IGNORE` directive identifies a set of ***strings*** that may appear in any JSON object.\n",
    "2. Grammar rules.  These define valid (conformant) JSON ***objects*** and ***arrays***.\n",
    "3. Lexer rules.  Lexer rules define the regular expressions that can be used to constrain the range of a JSON ***value***.\n",
    "\n",
    "\n",
    "## Directives\n",
    "### The `.TYPE` directive:\n",
    "\n",
    "1. Names a unique property that identifies the JSG object being represented\n",
    "2. (Optional) lists one or more production types that do not use the `.TYPE` discriminator\n",
    "\n",
    "#### Syntax\n",
    "`.TYPE <type> [ - <type> [<type>...]] ;`\n",
    "\n",
    "#### No type directive"
   ]
  },
  {
   "cell_type": "code",
   "execution_count": 2,
   "metadata": {},
   "outputs": [
    {
     "name": "stdout",
     "output_type": "stream",
     "text": [
      "T1: Conforms to doc\n",
      "T2: Conforms to doc\n",
      "T3: FAIL - doc: Missing required field: 'a'\n"
     ]
    }
   ],
   "source": [
    "x = JSGPython('doc { a:., }')\n",
    "print(x.conforms('{\"a\":\"hello\"}', 'T1'))\n",
    "print(x.conforms('{\"a\":\"test\", \"b\": \"work\"}', 'T2'))\n",
    "print(x.conforms('{\"b\":\"test\"}', 'T3'))"
   ]
  },
  {
   "cell_type": "markdown",
   "metadata": {},
   "source": [
    "#### Object type identifier: \" `.TYPE t  ;`\""
   ]
  },
  {
   "cell_type": "code",
   "execution_count": 3,
   "metadata": {},
   "outputs": [
    {
     "name": "stdout",
     "output_type": "stream",
     "text": [
      "T1: Conforms to doc\n",
      "T2: FAIL - Invalid Integer value: \"text\"\n",
      "T3: FAIL - doc: Missing required field: 'a'\n"
     ]
    }
   ],
   "source": [
    "x = JSGPython('''\n",
    ".TYPE t ;\n",
    "doc {a:.,}\n",
    "id {b: @int}\n",
    "''')\n",
    "print(x.conforms('{\"t\": \"doc\", \"a\": {\"t\":\"id\", \"b\": 173}}', 'T1'))\n",
    "print(x.conforms('{\"t\": \"id\", \"b\":\"text\"}', 'T2'))\n",
    "print(x.conforms('{\"t\": \"doc\", \"b\": 173}', 'T3'))"
   ]
  },
  {
   "cell_type": "markdown",
   "metadata": {},
   "source": [
    "#### Object type identifier with single exception: \"`.TYPE t - id;`\""
   ]
  },
  {
   "cell_type": "code",
   "execution_count": 4,
   "metadata": {},
   "outputs": [
    {
     "name": "stdout",
     "output_type": "stream",
     "text": [
      "T1: Conforms to doc\n",
      "T2: Conforms to id\n",
      "T3: FAIL - Invalid Integer value: \"twelve\"\n"
     ]
    }
   ],
   "source": [
    "x = JSGPython('''\n",
    ".TYPE t - id ;\n",
    "doc {a:.,}\n",
    "id {b: @int}\n",
    "''')\n",
    "print(x.conforms('{\"t\": \"doc\", \"a\": {\"b\": 173}}', 'T1'))\n",
    "print(x.conforms('{\"t\": \"id\", \"b\": 140}', 'T2'))\n",
    "print(x.conforms('{\"b\": \"twelve\"}', 'T3'))"
   ]
  },
  {
   "cell_type": "markdown",
   "metadata": {},
   "source": [
    "#### Object type identifier with multiple exceptions: \"`.TYPE t - id val;`\""
   ]
  },
  {
   "cell_type": "code",
   "execution_count": 5,
   "metadata": {},
   "outputs": [
    {
     "name": "stdout",
     "output_type": "stream",
     "text": [
      "T1: Conforms to doc\n",
      "T2: Conforms to id\n",
      "T3: Conforms to val\n"
     ]
    }
   ],
   "source": [
    "x = JSGPython('''\n",
    ".TYPE t - id val ;\n",
    "doc {a:.,}\n",
    "id {b: @int}\n",
    "val {t: @number}\n",
    "''')\n",
    "print(x.conforms('{\"t\": \"doc\", \"a\": {\"b\": 173}}', 'T1'))\n",
    "print(x.conforms('{\"t\": \"id\", \"b\": 140}', 'T2'))\n",
    "print(x.conforms('{\"t\": 3.14}', 'T3'))"
   ]
  },
  {
   "cell_type": "markdown",
   "metadata": {},
   "source": [
    "### The `.IGNORE` directive\n",
    "The `.IGNORE` directive identifies a list of property names to be globally ignored\n",
    "\n",
    "#### Syntax\n",
    "`.IGNORE <type> [<type> ...] ;`\n",
    "\n",
    "#### Without Ignore"
   ]
  },
  {
   "cell_type": "code",
   "execution_count": 6,
   "metadata": {},
   "outputs": [
    {
     "name": "stdout",
     "output_type": "stream",
     "text": [
      "Conforms to doc\n",
      "FAIL - Unknown attribute: target=earthling\n"
     ]
    }
   ],
   "source": [
    "x = JSGPython('doc {a:@string}')\n",
    "print(x.conforms('{\"a\":\"hello\"}'))\n",
    "print(x.conforms('{\"a\":\"hello\", \"target\":\"earthling\"}'))"
   ]
  },
  {
   "cell_type": "code",
   "execution_count": 7,
   "metadata": {},
   "outputs": [
    {
     "name": "stdout",
     "output_type": "stream",
     "text": [
      "Conforms to doc\n",
      "Conforms to doc\n",
      "FAIL - Unknown attribute: mode=formal\n"
     ]
    }
   ],
   "source": [
    "x = JSGPython('''\n",
    ".IGNORE target;\n",
    "doc {a:@string}''')\n",
    "print(x.conforms('{\"a\":\"hello\"}'))\n",
    "print(x.conforms('{\"a\":\"hello\", \"target\":\"earthling\"}'))\n",
    "print(x.conforms('{\"a\":\"hello\", \"target\":\"earthling\", \"mode\": \"formal\"}'))"
   ]
  },
  {
   "cell_type": "markdown",
   "metadata": {},
   "source": [
    "### Object Definitions\n",
    "A JSG object definition consists of the definition name followed by the definition enclosed in curly braces ({ ... })\n",
    "\n",
    "#### Syntax\n",
    "`<identifier> : { [<element definitions>] }` \n",
    "\n",
    "Where identifier must either be a single, upper case character or, if there are two or more characters, at least one of them must be lower case alphabetic.\n",
    "\n",
    "* valid identifiers:  A,  Type,  type, a17, a_abc, DOCx\n",
    "* invalid identifiers: AA, A17, DOCX, A_\n",
    "\n",
    "##### Simple object definition\n",
    "An object definition with no element definitions describes an empty object"
   ]
  },
  {
   "cell_type": "code",
   "execution_count": 8,
   "metadata": {},
   "outputs": [
    {
     "name": "stdout",
     "output_type": "stream",
     "text": [
      "Conforms to mtdoc\n",
      "FAIL - Unknown attribute: name=Fred\n",
      "Conforms to mtdoc\n",
      "Conforms to mtdoc\n",
      "FAIL - Unknown attribute: location=Spain\n"
     ]
    }
   ],
   "source": [
    "x = JSGPython('mtdoc {}')\n",
    "print(x.conforms('{}'))\n",
    "print(x.conforms('{\"name\":\"Fred\"}'))\n",
    "\n",
    "# .IGNORE elements can always appear - even in empty documents\n",
    "x = JSGPython('.IGNORE name; mtdoc {}')\n",
    "print(x.conforms('{}'))\n",
    "print(x.conforms('{\"name\":\"Fred\"}'))\n",
    "print(x.conforms('{\"location\":\"Spain\"}'))"
   ]
  },
  {
   "cell_type": "markdown",
   "metadata": {},
   "source": [
    "### `element definitions` \n",
    "**`element definitions`** consist of either:\n",
    "\n",
    " 1. a list of one or more `member definitions` or ...\n",
    " 2. ... a `mapping definition`\n",
    "\n",
    "\n",
    "#### `member definition`\n",
    "A **`member definition`** identifies the string (name), type and possible values for a JSON object member.  `member definition` can also determine whether a member is required or optional.\n",
    "\n",
    "#### Syntax\n",
    "`<name> : <valueType> [<cardinality]` \n",
    "or\n",
    "`<objectId>`\n",
    "or\n",
    "`(<name> <name> ...) : <valuetype> [<cardinality]`\n",
    "\n",
    "** name / valuetype format **"
   ]
  },
  {
   "cell_type": "code",
   "execution_count": 18,
   "metadata": {},
   "outputs": [
    {
     "name": "stdout",
     "output_type": "stream",
     "text": [
      "FAIL - Invalid String value: \"['grunt', 'peter']\"\n"
     ]
    }
   ],
   "source": [
    "x = JSGPython('''doc {\n",
    "    last_name : @string,       # exactly one last name of type string\n",
    "    first_name : @string+      # array or one or more first names\n",
    "    age : @int?,               # optional age of type int\n",
    "    weight : @number*          # array of zero or more weights\n",
    "}\n",
    "''')\n",
    "print(x.conforms('''\n",
    "{ \"last_name\" : \"snooter\",\n",
    "  \"first_name\" : [\"grunt\", \"peter\"],\n",
    "  \"weight\" : []\n",
    "}'''))\n"
   ]
  },
  {
   "cell_type": "code",
   "execution_count": null,
   "metadata": {
    "collapsed": true
   },
   "outputs": [],
   "source": []
  }
 ],
 "metadata": {
  "kernelspec": {
   "display_name": "Python 3",
   "language": "python",
   "name": "python3"
  },
  "language_info": {
   "codemirror_mode": {
    "name": "ipython",
    "version": 3
   },
   "file_extension": ".py",
   "mimetype": "text/x-python",
   "name": "python",
   "nbconvert_exporter": "python",
   "pygments_lexer": "ipython3",
   "version": "3.6.3"
  }
 },
 "nbformat": 4,
 "nbformat_minor": 2
}
